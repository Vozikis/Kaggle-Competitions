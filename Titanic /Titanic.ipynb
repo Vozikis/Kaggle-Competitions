{
 "cells": [
  {
   "cell_type": "code",
   "execution_count": 11,
   "id": "8d1d2a09",
   "metadata": {},
   "outputs": [],
   "source": [
    "import numpy as np\n",
    "import matplotlib.pyplot as plt\n",
    "import pandas as pd"
   ]
  },
  {
   "cell_type": "code",
   "execution_count": 12,
   "id": "9665cb1d",
   "metadata": {},
   "outputs": [],
   "source": [
    "dataset = pd.read_csv('Train.csv')\n",
    "X = dataset.iloc[:, [2,5,6,7,9]].values\n",
    "y = dataset.iloc[:, 1].values"
   ]
  },
  {
   "cell_type": "code",
   "execution_count": 13,
   "id": "e1140ea2",
   "metadata": {},
   "outputs": [
    {
     "name": "stdout",
     "output_type": "stream",
     "text": [
      "[[ 3.     22.      1.      0.      7.25  ]\n",
      " [ 1.     38.      1.      0.     71.2833]\n",
      " [ 3.     26.      0.      0.      7.925 ]\n",
      " ...\n",
      " [ 3.         nan  1.      2.     23.45  ]\n",
      " [ 1.     26.      0.      0.     30.    ]\n",
      " [ 3.     32.      0.      0.      7.75  ]]\n"
     ]
    }
   ],
   "source": [
    "print(X)"
   ]
  },
  {
   "cell_type": "code",
   "execution_count": null,
   "id": "b624012c",
   "metadata": {},
   "outputs": [],
   "source": []
  }
 ],
 "metadata": {
  "kernelspec": {
   "display_name": "Python 3 (ipykernel)",
   "language": "python",
   "name": "python3"
  },
  "language_info": {
   "codemirror_mode": {
    "name": "ipython",
    "version": 3
   },
   "file_extension": ".py",
   "mimetype": "text/x-python",
   "name": "python",
   "nbconvert_exporter": "python",
   "pygments_lexer": "ipython3",
   "version": "3.8.13"
  }
 },
 "nbformat": 4,
 "nbformat_minor": 5
}
